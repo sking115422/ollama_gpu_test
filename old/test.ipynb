{
 "cells": [
  {
   "cell_type": "code",
   "execution_count": 1,
   "metadata": {},
   "outputs": [],
   "source": [
    "import subprocess"
   ]
  },
  {
   "cell_type": "code",
   "execution_count": 2,
   "metadata": {},
   "outputs": [],
   "source": [
    "def get_gpu_indexes():\n",
    "    # Run the nvidia-smi command and get the list of GPUs\n",
    "    result = subprocess.run(['nvidia-smi', '--query-gpu=index', '--format=csv,noheader'], stdout=subprocess.PIPE)\n",
    "    # Decode the result to a string and split into lines\n",
    "    gpu_indexes = result.stdout.decode('utf-8').strip().split('\\n')\n",
    "    # Convert the list of GPU indexes into a comma-separated string\n",
    "    return ','.join(gpu_indexes)"
   ]
  },
  {
   "cell_type": "code",
   "execution_count": 3,
   "metadata": {},
   "outputs": [
    {
     "name": "stdout",
     "output_type": "stream",
     "text": [
      "GPU Indexes: 0,1,2,3,4,5\n"
     ]
    }
   ],
   "source": [
    "# Example usage\n",
    "gpu_index_string = get_gpu_indexes()\n",
    "print(f\"GPU Indexes: {gpu_index_string}\")"
   ]
  }
 ],
 "metadata": {
  "kernelspec": {
   "display_name": "base",
   "language": "python",
   "name": "python3"
  },
  "language_info": {
   "codemirror_mode": {
    "name": "ipython",
    "version": 3
   },
   "file_extension": ".py",
   "mimetype": "text/x-python",
   "name": "python",
   "nbconvert_exporter": "python",
   "pygments_lexer": "ipython3",
   "version": "3.12.2"
  }
 },
 "nbformat": 4,
 "nbformat_minor": 2
}
